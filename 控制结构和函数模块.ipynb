{
 "cells": [
  {
   "cell_type": "markdown",
   "metadata": {},
   "source": [
    "# PYTHON 经典问题+常用模块\n",
    "## 词频统计\n",
    "典例（浅拷贝和深拷贝问题）"
   ]
  },
  {
   "cell_type": "code",
   "execution_count": 18,
   "metadata": {},
   "outputs": [
    {
     "name": "stdout",
     "output_type": "stream",
     "text": [
      "['d', 's', 'f', ',', 'd', 'f', 's', ',', ',', ',', ',', ',', ',', 's', 'f', 'd', 's']\n",
      "['d', 's', 'f', 'd', 'f', 's', ',', ',', ',', 's', 'f', 'd', 's']\n"
     ]
    }
   ],
   "source": [
    "lst = 'dsf,dfs,,,,,,sfds'\n",
    "lst = list(lst)\n",
    "print(lst)\n",
    "[lst.remove(ch) for ch in lst[:] if ch in ',.\\'']  #此处迭代remove也会指针前移 所以需要先建一个浅拷贝\n",
    "print(lst)"
   ]
  },
  {
   "cell_type": "code",
   "execution_count": 25,
   "metadata": {},
   "outputs": [
    {
     "name": "stdout",
     "output_type": "stream",
     "text": [
      "['life,', 'dfds,', 'fsd']\n"
     ]
    }
   ],
   "source": [
    "poem_EN = \"life, dfds, fsd\"\n",
    "p_dict = {}\n",
    "poem_list = poem_EN.split()\n",
    "for item in poem_list:\n",
    "    if item[-1] in ',.\\'':\n",
    "        item = item[:-1]\n",
    "    p_dict[item] = p_dict.get(item, 0) + 1"
   ]
  },
  {
   "cell_type": "code",
   "execution_count": 26,
   "metadata": {},
   "outputs": [
    {
     "data": {
      "text/plain": [
       "{'life': 1, 'dfds': 1, 'fsd': 1}"
      ]
     },
     "execution_count": 26,
     "metadata": {},
     "output_type": "execute_result"
    }
   ],
   "source": [
    "p_dict"
   ]
  },
  {
   "cell_type": "markdown",
   "metadata": {},
   "source": [
    "## OS模块"
   ]
  },
  {
   "cell_type": "code",
   "execution_count": 2,
   "metadata": {},
   "outputs": [
    {
     "data": {
      "text/plain": [
       "'D:\\\\python学习jupyter notebook'"
      ]
     },
     "execution_count": 2,
     "metadata": {},
     "output_type": "execute_result"
    }
   ],
   "source": [
    "import os\n",
    "os.getcwd() #find the path of work file"
   ]
  },
  {
   "cell_type": "code",
   "execution_count": 3,
   "metadata": {},
   "outputs": [
    {
     "data": {
      "text/plain": [
       "['.ipynb_checkpoints', 'Untitled.ipynb']"
      ]
     },
     "execution_count": 3,
     "metadata": {},
     "output_type": "execute_result"
    }
   ],
   "source": [
    "path = \"D:\\\\python学习jupyter notebook\"\n",
    "os.chdir(path)\n",
    "os.getcwd()\n",
    "os.listdir(path)\n",
    "#os.rename(\"\",\"\")\n",
    "#os.path.split()\n",
    "#os.path.join(root_dir,'new.text')\n",
    "#os.remove(\"filename\")\n",
    "#os.mkdir(\"path where u want to build a new dic\")\n",
    "#os.rmdir(\"path where u want to delete the dic\") #import shutil shutil.path(\"path\")"
   ]
  },
  {
   "cell_type": "code",
   "execution_count": 4,
   "metadata": {},
   "outputs": [
    {
     "data": {
      "text/plain": [
       "'c:\\\\p\\\\abc'"
      ]
     },
     "execution_count": 4,
     "metadata": {},
     "output_type": "execute_result"
    }
   ],
   "source": [
    "os.path.commonpath(['c:\\\\p\\\\abc\\\\a.txt','c:\\\\p\\\\abc\\\\b.txt'])"
   ]
  },
  {
   "cell_type": "markdown",
   "metadata": {},
   "source": [
    "## random模块"
   ]
  },
  {
   "cell_type": "code",
   "execution_count": 8,
   "metadata": {},
   "outputs": [
    {
     "name": "stdout",
     "output_type": "stream",
     "text": [
      "[46, 94, 68, 92, 53, 58, 95, 34, 59, 82]\n"
     ]
    },
    {
     "data": {
      "text/plain": [
       "[100, 200]"
      ]
     },
     "execution_count": 8,
     "metadata": {},
     "output_type": "execute_result"
    }
   ],
   "source": [
    "import random\n",
    "print(random.sample(range(100),10))\n",
    "nums = [100, 200]\n",
    "random.shuffle(nums)\n",
    "nums"
   ]
  },
  {
   "cell_type": "code",
   "execution_count": 9,
   "metadata": {},
   "outputs": [
    {
     "data": {
      "text/plain": [
       "'\\nfdfdsf\\n'"
      ]
     },
     "execution_count": 9,
     "metadata": {},
     "output_type": "execute_result"
    }
   ],
   "source": [
    "import random\n",
    "\n",
    "def func(data):\n",
    "    cls_no = random.choice(list(data.keys()))\n",
    "    stu_no = random.randint(1,cls_no)\n",
    "    return \"{}{:02}\".format(cls_no,stu_no)\n",
    "\n",
    "#补充"
   ]
  },
  {
   "cell_type": "markdown",
   "metadata": {},
   "source": [
    "## datatime模块"
   ]
  },
  {
   "cell_type": "code",
   "execution_count": 1,
   "metadata": {},
   "outputs": [
    {
     "name": "stdout",
     "output_type": "stream",
     "text": [
      "2021-10-09 16:56:37.427340\n",
      "2021-10-09\n"
     ]
    }
   ],
   "source": [
    "\n",
    "import datetime\n",
    "dt = datetime.datetime.now()\n",
    "print(dt)\n",
    "print(dt.date())\n"
   ]
  },
  {
   "cell_type": "markdown",
   "metadata": {},
   "source": [
    "## sys模块"
   ]
  },
  {
   "cell_type": "code",
   "execution_count": 3,
   "metadata": {},
   "outputs": [],
   "source": [
    "import sys\n",
    "for x in sys.stdin:\n",
    "    print(x)\n",
    "#实现多行输入"
   ]
  },
  {
   "cell_type": "code",
   "execution_count": 4,
   "metadata": {},
   "outputs": [],
   "source": [
    "#多行输入求和 然后输入0 停止\n",
    "for x in sys.stdin:\n",
    "    if x.strip() != '0': #strip去除首尾空格字符\n",
    "        s += eval(x)\n",
    "    else:\n",
    "        break"
   ]
  },
  {
   "cell_type": "markdown",
   "metadata": {},
   "source": [
    "## 命令行参数模块\n",
    "sys.argv[1:] ##原因是因为argv包含了应用程序名 需要去掉"
   ]
  },
  {
   "cell_type": "code",
   "execution_count": 11,
   "metadata": {},
   "outputs": [
    {
     "ename": "NameError",
     "evalue": "name 'f' is not defined",
     "output_type": "error",
     "traceback": [
      "\u001b[1;31m---------------------------------------------------------------------------\u001b[0m",
      "\u001b[1;31mNameError\u001b[0m                                 Traceback (most recent call last)",
      "\u001b[1;32m<ipython-input-11-0bf53084433b>\u001b[0m in \u001b[0;36m<module>\u001b[1;34m\u001b[0m\n\u001b[0;32m      4\u001b[0m \u001b[1;33m\u001b[0m\u001b[0m\n\u001b[0;32m      5\u001b[0m \u001b[1;32mfor\u001b[0m \u001b[0mx\u001b[0m \u001b[1;32min\u001b[0m \u001b[0msys\u001b[0m\u001b[1;33m.\u001b[0m\u001b[0margv\u001b[0m\u001b[1;33m[\u001b[0m\u001b[1;36m1\u001b[0m\u001b[1;33m:\u001b[0m\u001b[1;33m]\u001b[0m\u001b[1;33m:\u001b[0m\u001b[1;33m\u001b[0m\u001b[1;33m\u001b[0m\u001b[0m\n\u001b[1;32m----> 6\u001b[1;33m     \u001b[0ms\u001b[0m \u001b[1;33m+=\u001b[0m \u001b[0meval\u001b[0m\u001b[1;33m(\u001b[0m\u001b[0mx\u001b[0m\u001b[1;33m)\u001b[0m\u001b[1;33m\u001b[0m\u001b[1;33m\u001b[0m\u001b[0m\n\u001b[0m\u001b[0;32m      7\u001b[0m \u001b[1;33m\u001b[0m\u001b[0m\n\u001b[0;32m      8\u001b[0m \u001b[0mprint\u001b[0m\u001b[1;33m(\u001b[0m\u001b[0ms\u001b[0m\u001b[1;33m)\u001b[0m\u001b[1;33m\u001b[0m\u001b[1;33m\u001b[0m\u001b[0m\n",
      "\u001b[1;32m<string>\u001b[0m in \u001b[0;36m<module>\u001b[1;34m\u001b[0m\n",
      "\u001b[1;31mNameError\u001b[0m: name 'f' is not defined"
     ]
    }
   ],
   "source": [
    "import sys\n",
    "\n",
    "s = 0\n",
    "\n",
    "for x in sys.argv[1:]:\n",
    "    s += eval(x)\n",
    "\n",
    "print(s)"
   ]
  },
  {
   "cell_type": "markdown",
   "metadata": {},
   "source": [
    "## 自定义函数\n",
    "\n",
    "###  if \\_\\_name\\_\\_ == \"\\_\\_main\\_\\_\":\n",
    "别人import之后 此语句下面的部分不可见 或者可以直接def main(): .... 然后在此语句下写main()\n",
    "\n",
    "### 位置参数\n",
    "\n",
    "### 默认参数\n",
    "\n",
    "### 可变长位置参数（此处加了*的部分） 必须在关键字参数前面 def greeting(args1, *tupleArgs):\n",
    "\n",
    "### 可变长关键字参数（两个**）含参数名的参数传递\n",
    "\n",
    "### help文档中 / 前面为位置参数，调用不带参数名，* 后面为关键字参数 ，必须要带参数名调用"
   ]
  },
  {
   "cell_type": "code",
   "execution_count": 19,
   "metadata": {},
   "outputs": [],
   "source": [
    "def func():\n",
    "    '''test func''' #description of func\n",
    "    print(\"hello,world\")"
   ]
  },
  {
   "cell_type": "code",
   "execution_count": 20,
   "metadata": {},
   "outputs": [
    {
     "data": {
      "text/plain": [
       "'test func'"
      ]
     },
     "execution_count": 20,
     "metadata": {},
     "output_type": "execute_result"
    }
   ],
   "source": [
    "func.__doc__"
   ]
  },
  {
   "cell_type": "code",
   "execution_count": 25,
   "metadata": {},
   "outputs": [
    {
     "name": "stdout",
     "output_type": "stream",
     "text": [
      "i\n",
      "love\n",
      "u\n"
     ]
    }
   ],
   "source": [
    "lst = [\"i\", \"love\", \"u\"]\n",
    "print(*lst, sep = '\\n') #the usage of * is to unpackage the list"
   ]
  },
  {
   "cell_type": "markdown",
   "metadata": {},
   "source": [
    "## 例题"
   ]
  },
  {
   "cell_type": "code",
   "execution_count": 22,
   "metadata": {},
   "outputs": [],
   "source": [
    "#输出2-100之间的素数\n",
    "\n",
    "#字符串循环移动\n",
    "\n",
    "#模拟一个简易的用户注册和登录系统"
   ]
  },
  {
   "cell_type": "code",
   "execution_count": 28,
   "metadata": {},
   "outputs": [],
   "source": [
    "#实现用户信息注册登记\n",
    "def register(name, gender, phonenum, **otherinfo):\n",
    "    ''' register users information '''\n",
    "    print('name: ', name, 'gender: ', gender, 'phone num: ', phonenum)\n",
    "    print('other information: ', otherinfo)"
   ]
  },
  {
   "cell_type": "markdown",
   "metadata": {},
   "source": [
    "## LAMBDA 函数 和 函数式编程"
   ]
  },
  {
   "cell_type": "code",
   "execution_count": 30,
   "metadata": {},
   "outputs": [
    {
     "data": {
      "text/plain": [
       "10"
      ]
     },
     "execution_count": 30,
     "metadata": {},
     "output_type": "execute_result"
    }
   ],
   "source": [
    "#lambda 快速定义单行函数\n",
    "r = lambda x : x+x\n",
    "r(5)"
   ]
  },
  {
   "cell_type": "code",
   "execution_count": 36,
   "metadata": {},
   "outputs": [
    {
     "name": "stdout",
     "output_type": "stream",
     "text": [
      "[('bob', 87), ('jerry', 97)] [('bob', 87), ('jerry', 97)]\n"
     ]
    }
   ],
   "source": [
    "#example：编写函数计算平均成绩--lambda函数\n",
    "dScores = {\"jerry\":97, \"bob\":87}\n",
    "a = sorted(dScores.items(), key = lambda d:d[0]) #key = lambda x:x[?] 是固定写法，x其实可以为任意值。\n",
    "b = sorted(dScores.items(), key = lambda d:d[1]) #按成绩排，上面的是按姓名排\n",
    "print(a,b)"
   ]
  },
  {
   "cell_type": "markdown",
   "metadata": {},
   "source": [
    "### 函数式编程主要由3个基本函数和1个算子构成，基本高阶函数：map()、reduce()、filter()\n"
   ]
  },
  {
   "cell_type": "code",
   "execution_count": 31,
   "metadata": {},
   "outputs": [
    {
     "data": {
      "text/plain": [
       "8"
      ]
     },
     "execution_count": 31,
     "metadata": {},
     "output_type": "execute_result"
    }
   ],
   "source": [
    "from functools import reduce\n",
    "lst = [3,5]\n",
    "list(map(lambda x: x*2,lst)) #map相当于建立一个映射\n",
    "list(filter(lambda x: x%2 == 0,lst)) #filter相当于筛选\n",
    "reduce(lambda x,y : x + y, lst)"
   ]
  },
  {
   "cell_type": "markdown",
   "metadata": {},
   "source": [
    "### 例题 数字筛选"
   ]
  },
  {
   "cell_type": "code",
   "execution_count": 34,
   "metadata": {},
   "outputs": [
    {
     "name": "stdout",
     "output_type": "stream",
     "text": [
      "7\n",
      "['1', '2', '3', '4', '5', '6', '8', '9', '10', '11', '12', '13', '15', '16', '18', '19', '20', '22', '23', '24', '25', '26', '29', '30', '31', '32', '33', '34', '36', '38', '39', '40', '41', '43', '44', '45', '46', '48', '50', '51', '52', '53', '54', '55', '58', '59', '60', '61', '62', '64', '65', '66', '68', '69', '80', '81', '82', '83', '85', '86', '88', '89', '90', '92', '93', '94', '95', '96', '99', '100']\n"
     ]
    }
   ],
   "source": [
    "n = int(input())\n",
    "lst = list(map(str, filter(lambda x: x%n and str(n) not in str(x), range(1, 101))))\n",
    "print(lst)"
   ]
  },
  {
   "cell_type": "code",
   "execution_count": null,
   "metadata": {},
   "outputs": [],
   "source": []
  }
 ],
 "metadata": {
  "kernelspec": {
   "display_name": "Python 3",
   "language": "python",
   "name": "python3"
  },
  "language_info": {
   "codemirror_mode": {
    "name": "ipython",
    "version": 3
   },
   "file_extension": ".py",
   "mimetype": "text/x-python",
   "name": "python",
   "nbconvert_exporter": "python",
   "pygments_lexer": "ipython3",
   "version": "3.8.5"
  }
 },
 "nbformat": 4,
 "nbformat_minor": 4
}
